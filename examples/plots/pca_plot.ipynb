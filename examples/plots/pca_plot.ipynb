{
  "nbformat": 4,
  "nbformat_minor": 0,
  "metadata": {
    "colab": {
      "name": "Untitled0.ipynb",
      "provenance": [],
      "authorship_tag": "ABX9TyORUJ1N2lTC5kmA5fbdzwtL",
      "include_colab_link": true
    },
    "kernelspec": {
      "name": "python3",
      "display_name": "Python 3"
    },
    "language_info": {
      "name": "python"
    }
  },
  "cells": [
    {
      "cell_type": "markdown",
      "metadata": {
        "id": "view-in-github",
        "colab_type": "text"
      },
      "source": [
        "<a href=\"https://colab.research.google.com/github/ulissigroup/finetuna_manuscript/blob/main/pca_plot.ipynb\" target=\"_parent\"><img src=\"https://colab.research.google.com/assets/colab-badge.svg\" alt=\"Open In Colab\"/></a>"
      ]
    },
    {
      "cell_type": "code",
      "execution_count": 3,
      "metadata": {
        "colab": {
          "base_uri": "https://localhost:8080/"
        },
        "id": "ur_eDXB2OOBU",
        "outputId": "a37f3cca-005c-433c-8569-ebad2fd89562"
      },
      "outputs": [
        {
          "output_type": "stream",
          "name": "stdout",
          "text": [
            "Requirement already satisfied: ocp in /usr/local/lib/python3.7/dist-packages (0.1.8)\n",
            "Requirement already satisfied: ocp-linux-amd64>=0.1.8 in /usr/local/lib/python3.7/dist-packages (from ocp) (0.1.8)\n",
            "Collecting git+https://github.com/ulissigroup/finetuna.git\n",
            "  Cloning https://github.com/ulissigroup/finetuna.git to /tmp/pip-req-build-2nm9j44j\n",
            "  Running command git clone -q https://github.com/ulissigroup/finetuna.git /tmp/pip-req-build-2nm9j44j\n",
            "Requirement already satisfied: ase in /usr/local/lib/python3.7/dist-packages (from finetuna==0.1) (3.22.1)\n",
            "Requirement already satisfied: importlib_resources in /usr/local/lib/python3.7/dist-packages (from finetuna==0.1) (5.7.1)\n",
            "Requirement already satisfied: matplotlib>=3.1.0 in /usr/local/lib/python3.7/dist-packages (from ase->finetuna==0.1) (3.2.2)\n",
            "Requirement already satisfied: numpy>=1.15.0 in /usr/local/lib/python3.7/dist-packages (from ase->finetuna==0.1) (1.21.6)\n",
            "Requirement already satisfied: scipy>=1.1.0 in /usr/local/lib/python3.7/dist-packages (from ase->finetuna==0.1) (1.4.1)\n",
            "Requirement already satisfied: cycler>=0.10 in /usr/local/lib/python3.7/dist-packages (from matplotlib>=3.1.0->ase->finetuna==0.1) (0.11.0)\n",
            "Requirement already satisfied: pyparsing!=2.0.4,!=2.1.2,!=2.1.6,>=2.0.1 in /usr/local/lib/python3.7/dist-packages (from matplotlib>=3.1.0->ase->finetuna==0.1) (3.0.8)\n",
            "Requirement already satisfied: python-dateutil>=2.1 in /usr/local/lib/python3.7/dist-packages (from matplotlib>=3.1.0->ase->finetuna==0.1) (2.8.2)\n",
            "Requirement already satisfied: kiwisolver>=1.0.1 in /usr/local/lib/python3.7/dist-packages (from matplotlib>=3.1.0->ase->finetuna==0.1) (1.4.2)\n",
            "Requirement already satisfied: typing-extensions in /usr/local/lib/python3.7/dist-packages (from kiwisolver>=1.0.1->matplotlib>=3.1.0->ase->finetuna==0.1) (4.2.0)\n",
            "Requirement already satisfied: six>=1.5 in /usr/local/lib/python3.7/dist-packages (from python-dateutil>=2.1->matplotlib>=3.1.0->ase->finetuna==0.1) (1.15.0)\n",
            "Requirement already satisfied: zipp>=3.1.0 in /usr/local/lib/python3.7/dist-packages (from importlib_resources->finetuna==0.1) (3.8.0)\n"
          ]
        }
      ],
      "source": [
        "!pip install ocp\n",
        "!pip install git+https://github.com/ulissigroup/finetuna.git"
      ]
    },
    {
      "cell_type": "code",
      "source": [
        ""
      ],
      "metadata": {
        "id": "IhZ5uUwCORIx"
      },
      "execution_count": 3,
      "outputs": []
    },
    {
      "cell_type": "code",
      "source": [
        ""
      ],
      "metadata": {
        "id": "_tqkeiFXOdzA"
      },
      "execution_count": null,
      "outputs": []
    }
  ]
}