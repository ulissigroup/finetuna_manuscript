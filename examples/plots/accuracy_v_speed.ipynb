{
  "cells": [
    {
      "cell_type": "markdown",
      "metadata": {
        "colab_type": "text",
        "id": "view-in-github"
      },
      "source": [
        "<a href=\"https://colab.research.google.com/github/ulissigroup/finetuna_manuscript/blob/main/examples/plots/example_plot2.ipynb\" target=\"_parent\"><img src=\"https://colab.research.google.com/assets/colab-badge.svg\" alt=\"Open In Colab\"/></a>"
      ]
    },
    {
      "cell_type": "code",
      "execution_count": 11,
      "metadata": {
        "colab": {
          "base_uri": "https://localhost:8080/"
        },
        "id": "2xs1Q-j6rkMN",
        "outputId": "2b55f4f2-8d5a-49d3-ec6d-a30edd2d2dad"
      },
      "outputs": [
        {
          "name": "stdout",
          "output_type": "stream",
          "text": [
            "ASE_BFGS\n",
            "GemNet_Warm_Start\n",
            "K-steps_Online_Learner\n",
            "ASE_GPMin\n"
          ]
        }
      ],
      "source": [
        "import os\n",
        "\n",
        "dirname = os.path.abspath('')\n",
        "reldir = dirname.split(\"examples/plots\")[0]\n",
        "\n",
        "results_dir = reldir + \"data/results\"\n",
        "\n",
        "for root, dirs, files in os.walk(results_dir):\n",
        "    if len(files) > 0:\n",
        "        exp_name = root.split(\"/\")[-1]\n",
        "        print(exp_name)"
      ]
    }
  ],
  "metadata": {
    "colab": {
      "authorship_tag": "ABX9TyP1Ml4LZ/hFEpwV+9GSsL/g",
      "include_colab_link": true,
      "name": "Untitled0.ipynb",
      "provenance": []
    },
    "kernelspec": {
      "display_name": "Python 3",
      "name": "python3"
    },
    "language_info": {
      "codemirror_mode": {
        "name": "ipython",
        "version": 3
      },
      "file_extension": ".py",
      "mimetype": "text/x-python",
      "name": "python",
      "nbconvert_exporter": "python",
      "pygments_lexer": "ipython3",
      "version": "3.8.10"
    }
  },
  "nbformat": 4,
  "nbformat_minor": 0
}
